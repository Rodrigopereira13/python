{
 "cells": [
  {
   "cell_type": "code",
   "execution_count": null,
   "metadata": {},
   "outputs": [],
   "source": [
    "first_name = \"ada\"\n",
    "last_name = \"lovelace\"\n",
    "full_name = first_name + \" \" + last_name\n",
    "print(full_name.title())\n",
    "\n",
    "name = \"Ada Lovelace\"\n",
    "print(name.upper())\n",
    "print(name.lower())\n",
    "\n",
    "message = \"\\nHello, \" + full_name.title() + \"!\"\n",
    "print(message)"
   ]
  },
  {
   "cell_type": "code",
   "execution_count": null,
   "metadata": {},
   "outputs": [],
   "source": [
    "print(\"Languages:\\n\\tPython\\n\\tC\\n\\tJavaScript\")\n"
   ]
  },
  {
   "cell_type": "code",
   "execution_count": null,
   "metadata": {},
   "outputs": [],
   "source": [
    "favorite_language = ' python '\n",
    "favorite_language.rstrip()\n",
    "favorite_language.lstrip()\n",
    "favorite_language.strip()"
   ]
  },
  {
   "cell_type": "code",
   "execution_count": null,
   "metadata": {},
   "outputs": [],
   "source": [
    "age = 29\n",
    "message = \"Happy \" + str(age) + \"rd Birthday!\"\n",
    "print(message)\n",
    "\n",
    "# Diga olá a todos\n",
    "print(\"Hello Python people!\")"
   ]
  },
  {
   "cell_type": "code",
   "execution_count": null,
   "metadata": {},
   "outputs": [],
   "source": [
    "bicycles = ['trek', 'cannondale', 'redline', 'specialized']\n",
    "print(bicycles)\n",
    "\n",
    "print(bicycles[0])\n",
    "print(bicycles[1])\n",
    "print(bicycles[3])\n",
    "print(bicycles[-1])\n",
    "message = \"My first bicycle was a \" + bicycles[0].title() + \".\"\n",
    "print(message)"
   ]
  },
  {
   "cell_type": "code",
   "execution_count": null,
   "metadata": {},
   "outputs": [],
   "source": [
    "motorcycles = ['honda', 'yamaha', 'suzuki']\n",
    "print(motorcycles)\n",
    "motorcycles[0] = 'ducati'\n",
    "print(motorcycles)\n",
    "\n",
    "motorcycles.append('ducati')\n",
    "print(motorcycles)"
   ]
  },
  {
   "cell_type": "code",
   "execution_count": null,
   "metadata": {},
   "outputs": [],
   "source": [
    "motorcycles = []\n",
    "motorcycles.append('honda')\n",
    "motorcycles.append('yamaha')\n",
    "motorcycles.append('suzuki')\n",
    "print(motorcycles)\n",
    "\n",
    "motorcycles = ['honda', 'yamaha', 'suzuki']\n",
    "motorcycles.insert(0, 'ducati')\n",
    "print(motorcycles)\n",
    "\n",
    "motorcycles = ['honda', 'yamaha', 'suzuki']\n",
    "print(motorcycles)\n",
    "del motorcycles[0]\n",
    "print(motorcycles)"
   ]
  },
  {
   "cell_type": "code",
   "execution_count": null,
   "metadata": {},
   "outputs": [],
   "source": [
    "motorcycles = ['honda', 'yamaha', 'suzuki']\n",
    "print(motorcycles)\n",
    "popped_motorcycle = motorcycles.pop()\n",
    "print(motorcycles)\n",
    "print(popped_motorcycle)\n",
    "\n",
    "motorcycles = ['honda', 'yamaha', 'suzuki']\n",
    "last_owned = motorcycles.pop()\n",
    "print(\"The last motorcycle I owned was a \" + last_owned.title() + \".\")"
   ]
  },
  {
   "cell_type": "code",
   "execution_count": null,
   "metadata": {},
   "outputs": [],
   "source": [
    "first_owned = motorcycles.pop(0)\n",
    "print('The first motorcycle I owned was a ' + first_owned.title() + '.')\n",
    "\n",
    "motorcycles = ['honda', 'yamaha', 'suzuki', 'ducati']\n",
    "print(motorcycles)\n",
    "motorcycles.remove('ducati')\n",
    "print(motorcycles)\n",
    "\n",
    "\n"
   ]
  },
  {
   "cell_type": "code",
   "execution_count": null,
   "metadata": {},
   "outputs": [],
   "source": [
    "motorcycles = ['honda', 'yamaha', 'suzuki', 'ducati']\n",
    "too_expensive = 'ducati'\n",
    "motorcycles.remove(too_expensive)\n",
    "print(motorcycles)\n",
    "print(\"\\nA \" + too_expensive.title() + \" is too expensive for me.\")"
   ]
  },
  {
   "cell_type": "code",
   "execution_count": null,
   "metadata": {},
   "outputs": [],
   "source": [
    "cars = ['bmw', 'audi', 'toyota', 'subaru']\n",
    "cars.sort()\n",
    "print(cars)\n",
    "cars.sort(reverse=True)\n",
    "print(cars)\n",
    "\n",
    "print(\"Here is the original list:\")\n",
    "print(cars)\n",
    "print(\"\\nHere is the sorted list:\")\n",
    "print(sorted(cars))\n",
    "print(\"\\nHere is the original list again:\")\n",
    "print(cars)\n",
    "\n",
    "print(cars)\n",
    "cars.reverse()\n",
    "print(cars)"
   ]
  },
  {
   "cell_type": "code",
   "execution_count": null,
   "metadata": {},
   "outputs": [],
   "source": [
    "cars = ['bmw', 'audi', 'toyota', 'subaru']\n",
    "len(cars)"
   ]
  },
  {
   "cell_type": "code",
   "execution_count": null,
   "metadata": {},
   "outputs": [],
   "source": [
    "magicians = ['alice', 'david', 'carolina']\n",
    "for magician in magicians:\n",
    "    print(magician.title())\n",
    "    print(magician.title() + \", that was a great trick!.\\n\")\n",
    "\n",
    "print(\"Thank you, everyone. That was a great magic show!\")"
   ]
  },
  {
   "cell_type": "code",
   "execution_count": null,
   "metadata": {},
   "outputs": [],
   "source": [
    "for value in range(1,5):\n",
    "    print(value)\n",
    "\n",
    "numbers = list(range(1,6))\n",
    "print(numbers)\n",
    "\n",
    "even_numbers = list(range(2,11,2))\n",
    "print(even_numbers)"
   ]
  },
  {
   "cell_type": "code",
   "execution_count": null,
   "metadata": {},
   "outputs": [],
   "source": [
    "squares = []\n",
    "for value in range(1,11):\n",
    "    square = value**2\n",
    "    squares.append(square)\n",
    "    print(squares) #indentado\n",
    "\n",
    "squares = []\n",
    "for value in range(1,11):\n",
    "    squares.append(value**2)\n",
    "print(squares) #nao indentado\n",
    "\n",
    "squares = [value**2 for value in range(1,11)] #jeito de fazer um list em uma linha com for\n",
    "print(squares)\n",
    "\n",
    "\n"
   ]
  },
  {
   "cell_type": "code",
   "execution_count": null,
   "metadata": {},
   "outputs": [],
   "source": [
    "digits = [1, 2, 3, 4, 5, 6, 7, 8, 9, 0]\n",
    "minino = min(digits)\n",
    "print(minino)\n",
    "maximo = max(digits)\n",
    "print(maximo)\n",
    "soma = sum(digits)\n",
    "print(soma)\n",
    "\n"
   ]
  },
  {
   "cell_type": "code",
   "execution_count": null,
   "metadata": {},
   "outputs": [],
   "source": [
    "players = ['charles', 'martina', 'michael', 'florence', 'eli']\n",
    "print(players[0:3])\n",
    "print(players[1:4])\n",
    "print(players[:4])\n",
    "print(players[2:])\n",
    "print(players[-3:])\n",
    "\n",
    "players = ['charles', 'martina', 'michael', 'florence', 'eli']\n",
    "print(\"\\nHere are the first three players on my team:\")\n",
    "for player in players[:3]:\n",
    "    print(player.title())"
   ]
  },
  {
   "cell_type": "code",
   "execution_count": null,
   "metadata": {},
   "outputs": [],
   "source": [
    "my_foods = ['pizza', 'falafel', 'carrot cake']\n",
    "friend_foods = my_foods[:]\n",
    "print(\"My favorite foods are:\")\n",
    "print(my_foods)\n",
    "print(\"\\nMy friend's favorite foods are:\")\n",
    "print(friend_foods)\n",
    "\n",
    "my_foods.append('cannoli')\n",
    "friend_foods.append('ice cream')\n",
    "print(\"My favorite foods are:\")\n",
    "print(my_foods)\n",
    "print(\"\\nMy friend's favorite foods are:\")\n",
    "print(friend_foods)"
   ]
  },
  {
   "cell_type": "code",
   "execution_count": null,
   "metadata": {},
   "outputs": [],
   "source": [
    "#tupla sao lista imutaveis\n",
    "dimensions = (200, 50)\n",
    "print(dimensions[0])\n",
    "print(dimensions[1])\n",
    "\n",
    "#modificandos a tupla totalmente  colocando em  uma variavel\n",
    "dimensions = (400, 100)\n",
    "print(\"\\nModified dimensions:\")\n",
    "for dimension in dimensions:\n",
    "      print(dimension)"
   ]
  },
  {
   "cell_type": "code",
   "execution_count": null,
   "metadata": {},
   "outputs": [],
   "source": [
    "cars = ['audi', 'bmw', 'subaru', 'toyota']\n",
    "for car in cars:\n",
    "    if car == 'bmw':\n",
    "        print(car.upper())\n",
    "    else:\n",
    "        print(car.title())"
   ]
  },
  {
   "cell_type": "code",
   "execution_count": null,
   "metadata": {},
   "outputs": [],
   "source": [
    "#and é e, or é ou, in para ver se está na lista e not in para ver se nao esta na lista.\n",
    "\n",
    "banned_users = ['andrew', 'carolina', 'david']\n",
    "user = 'marie'\n",
    "if user not in banned_users:\n",
    "    print(user.title() + \", you can post a response if you wish.\")"
   ]
  },
  {
   "cell_type": "code",
   "execution_count": null,
   "metadata": {},
   "outputs": [],
   "source": [
    "age = 1\n",
    "if age < 4:\n",
    "    print(\"Your admission cost is $0.\")\n",
    "elif age < 18:\n",
    "    print(\"Your admission cost is $5.\")\n",
    "else:\n",
    "    print(\"Your admission cost is $10.\")"
   ]
  },
  {
   "cell_type": "code",
   "execution_count": null,
   "metadata": {},
   "outputs": [],
   "source": [
    "requested_toppings = ['mushrooms', 'green peppers', 'extra cheese']\n",
    "for requested_topping in requested_toppings:\n",
    "    print(\"Adding \" + requested_topping + \".\")\n",
    "print(\"\\nFinished making your pizza!\")"
   ]
  },
  {
   "cell_type": "code",
   "execution_count": null,
   "metadata": {},
   "outputs": [],
   "source": [
    "requested_toppings = ['mushrooms', 'green peppers', 'extra cheese']\n",
    "for requested_topping in requested_toppings:\n",
    "    print(\"Adding \" + requested_topping + \".\")\n",
    "    if requested_topping == 'green peppers':\n",
    "        print(\"Sorry, we are out of green peppers right now.\")\n",
    "    else:\n",
    "        print(\"\\nFinished making your pizza!\")"
   ]
  },
  {
   "cell_type": "code",
   "execution_count": null,
   "metadata": {},
   "outputs": [],
   "source": [
    "available_toppings = ['mushrooms', 'olives', 'green peppers', 'pepperoni', 'pineapple', 'extra cheese']\n",
    "requested_toppings = ['mushrooms', 'french fries', 'extra cheese']\n",
    "for requested_topping in requested_toppings:\n",
    "    if requested_topping in available_toppings:\n",
    "        print(\"Adding \" + requested_topping + \".\")\n",
    "    else:\n",
    "        print(\"Sorry, we don't have \" + requested_topping + \".\")\n",
    "print(\"\\nFinished making your pizza!\")"
   ]
  },
  {
   "cell_type": "code",
   "execution_count": null,
   "metadata": {},
   "outputs": [],
   "source": [
    "#dicionarios\n",
    "alien_0 = {'color': 'green', 'points': 5}\n",
    "print(alien_0['color'])\n",
    "print(alien_0['points'])\n",
    "\n",
    "new_points = alien_0['points']\n",
    "print(f\"You just earned {new_points} points!\") #função string f\n",
    "print(alien_0)\n",
    "\n",
    "alien_0['x_position'] = 0\n",
    "alien_0['y_position'] = 25\n",
    "print(alien_0)"
   ]
  },
  {
   "cell_type": "code",
   "execution_count": null,
   "metadata": {},
   "outputs": [],
   "source": [
    "#dicionario vazio\n",
    "alien_0 = {}\n",
    "alien_0['color'] = 'green'\n",
    "alien_0['points'] = 5\n",
    "print(alien_0)\n",
    "\n",
    "#modificar um dicionario\n",
    "alien_0 = {'color': 'green'}\n",
    "print(\"The alien is \" + alien_0['color'] + \".\")\n",
    "alien_0['color'] = 'yellow'\n",
    "print(\"The alien is now \" + alien_0['color'] + \".\")"
   ]
  },
  {
   "cell_type": "code",
   "execution_count": null,
   "metadata": {},
   "outputs": [],
   "source": [
    "alien_0 = {'x_position': 0, 'y_position': 25, 'speed': 'medium'}\n",
    "print(\"Original x-position: \" + str(alien_0['x_position']))\n",
    "# Move o alienígena para a direita\n",
    "# Determina a distância que o alienígena deve se deslocar de acordo com sua\n",
    "# velocidade atual\n",
    "if alien_0['speed'] == 'slow':\n",
    "   x_increment = 1\n",
    "elif alien_0['speed'] == 'medium': \n",
    "   x_increment = 2\n",
    "else:\n",
    "   x_increment = 3\n",
    "# A nova posição é a posição antiga somada ao incremento\n",
    "alien_0['x_position'] = alien_0['x_position'] + x_increment\n",
    "print(\"New x-position: \" + str(alien_0['x_position']))"
   ]
  },
  {
   "cell_type": "code",
   "execution_count": null,
   "metadata": {},
   "outputs": [],
   "source": [
    "alien_0 = {'color': 'green', 'points': 5}\n",
    "print(alien_0)\n",
    "del alien_0['points']\n",
    "print(alien_0)"
   ]
  },
  {
   "cell_type": "code",
   "execution_count": null,
   "metadata": {},
   "outputs": [],
   "source": [
    "favorite_languages = {\n",
    "'jen': 'python',\n",
    "'sarah': 'c',\n",
    "'edward': 'ruby',\n",
    "'phil': 'python',\n",
    "}\n",
    "\n",
    "print(\"Sarah's favorite language is \" + favorite_languages['sarah'].title() + \".\")\n",
    "\n",
    "#laço for no dicionario\n",
    "for name, language in favorite_languages.items():\n",
    "    print(name.title() + \"'s favorite language is \" + language.title() + \".\")\n",
    "\n",
    "\n"
   ]
  },
  {
   "cell_type": "code",
   "execution_count": null,
   "metadata": {},
   "outputs": [],
   "source": [
    "#percorrer o laço, nao precisando do valor da variavel se usa Keys() ou escreve normal \"for name in favorite_languages:\"\n",
    "for name in favorite_languages.keys():\n",
    "    print(name.title())\n",
    "for name in favorite_languages:\n",
    "    print(name.title())\n",
    "    if 'erin' not in favorite_languages.keys():\n",
    "        print(\"Erin, please take our poll!\")"
   ]
  },
  {
   "cell_type": "code",
   "execution_count": null,
   "metadata": {},
   "outputs": [],
   "source": [
    "friends = ['phil', 'sarah']\n",
    "for name in favorite_languages.keys():\n",
    "    print(name.title())\n",
    "    if name in friends:\n",
    "        print(\" Hi \" + name.title() + \", I see your favorite language is \" + favorite_languages[name].title() + \"!\")\n",
    "\n",
    "for name in sorted(favorite_languages.keys()):\n",
    "    print(name.title() + \", thank you for taking the poll.\")"
   ]
  },
  {
   "cell_type": "code",
   "execution_count": null,
   "metadata": {},
   "outputs": [],
   "source": [
    "#olhando só o valor.\n",
    "print(\"The following languages have been mentioned:\")\n",
    "for language in favorite_languages.values():\n",
    "    print(language.title())\n",
    "\n",
    "#se quisermos olhar um dado em conjunto, suponha que tem mt dados que queremos nao repetir podemos usar set()\n",
    "for language in set(favorite_languages.values()):\n",
    "    print(language.title())"
   ]
  },
  {
   "cell_type": "code",
   "execution_count": null,
   "metadata": {},
   "outputs": [],
   "source": [
    "#se quisermos olhar um dado em conjunto, suponha que tem mt dados que queremos nao repetir podemos usar set()\n",
    "for language in set(favorite_languages.values()):\n",
    "    print(language.title())"
   ]
  },
  {
   "cell_type": "code",
   "execution_count": null,
   "metadata": {},
   "outputs": [],
   "source": [
    "#aninhar informações\n",
    "alien_0 = {'color': 'green', 'points': 5}\n",
    "alien_1 = {'color': 'yellow', 'points': 10}\n",
    "alien_2 = {'color': 'red', 'points': 15}\n",
    "aliens = [alien_0, alien_1, alien_2]\n",
    "for alien in aliens:\n",
    "    print(alien)"
   ]
  },
  {
   "cell_type": "code",
   "execution_count": null,
   "metadata": {},
   "outputs": [],
   "source": [
    "# Cria uma lista vazia para armazenar alienígenas\n",
    "aliens = []\n",
    "# Cria 30 alienígenas verdes\n",
    "for alien_number in range(30):\n",
    "    new_alien = {'color': 'green', 'points': 5, 'speed': 'slow'}\n",
    "    aliens.append(new_alien)\n",
    "# Mostra os 5 primeiros alienígenas\n",
    "for alien in aliens[:5]:\n",
    "    print(alien)\n",
    "print(\"...\")\n",
    "# Mostra quantos alienígenas foram criados\n",
    "print(\"Total number of aliens: \" + str(len(aliens)))\n"
   ]
  },
  {
   "cell_type": "code",
   "execution_count": null,
   "metadata": {},
   "outputs": [],
   "source": [
    "aliens = []\n",
    "# Cria 30 alienígenas verdes\n",
    "for alien_number in range(30):\n",
    "    #faz os atributos do alien com dicionario\n",
    "    new_alien = {'color': 'green', 'points': 5, 'speed': 'slow'}\n",
    "    #adiciona os new alien na lista\n",
    "    aliens.append(new_alien)\n",
    "    for alien in aliens[0:3]:\n",
    "        if alien['color'] == 'green':\n",
    "            alien['color'] = 'yellow'\n",
    "            alien['speed'] = 'medium'\n",
    "            alien['points'] = 10\n",
    "        elif alien['color'] == 'yellow':\n",
    "            alien['color'] = 'red'\n",
    "            alien['speed'] = 'fast'\n",
    "            alien['points'] = 15\n",
    "for alien in aliens[:5]:\n",
    "    print(alien)\n",
    "print(\"...\")"
   ]
  },
  {
   "cell_type": "code",
   "execution_count": 1,
   "metadata": {},
   "outputs": [
    {
     "name": "stdout",
     "output_type": "stream",
     "text": [
      "You ordered a thick-crust pizza with the following toppings:\n",
      "\tmushrooms\n",
      "\textra cheese\n"
     ]
    }
   ],
   "source": [
    "pizza = {\n",
    "'crust': 'thick',\n",
    "'toppings': ['mushrooms', 'extra cheese'],\n",
    "}\n",
    "# Resume o pedido\n",
    "print(\"You ordered a \" + pizza['crust'] + \"-crust pizza \" + \"with the following toppings:\")\n",
    "for topping in pizza['toppings']:  #dicionario mais a keys para mostrar o valor\n",
    "    print(\"\\t\" + topping)"
   ]
  },
  {
   "cell_type": "code",
   "execution_count": null,
   "metadata": {},
   "outputs": [],
   "source": [
    "favorite_languages = {\n",
    "'jen': ['python', 'ruby'],\n",
    "'sarah': ['c'],\n",
    "'edward': ['ruby', 'go'],\n",
    "'phil': ['python', 'haskell'],\n",
    "}\n",
    "for name, languages in favorite_languages.items():\n",
    "    if len(languages) == 1:\n",
    "        print(\"\\n\" + name.title() + \"'s favorite language is:\")\n",
    "    else:\n",
    "        print(\"\\n\" + name.title() + \"'s favorite languages are:\")\n",
    "    for language in languages:\n",
    "            print(\"\\t\" + language.title())"
   ]
  },
  {
   "cell_type": "code",
   "execution_count": null,
   "metadata": {},
   "outputs": [],
   "source": [
    "#dicionario dentro de um dicionario, users é um dicionario com a chave aeinstein e mcurie que tbm sao dicionarios \n",
    "#com as chaves first, last e location\n",
    "\n",
    "users = {\n",
    "'aeinstein': {\n",
    "'first': 'albert',\n",
    "'last': 'einstein',\n",
    "'location': 'princeton',\n",
    "},\n",
    "'mcurie': {\n",
    "'first': 'marie',\n",
    "'last': 'curie',\n",
    "'location': 'paris',\n",
    "},\n",
    "}\n",
    "for username, user_info in users.items():\n",
    "    print(\"\\nUsername: \" + username)\n",
    "    full_name = user_info['first'] + \" \" + user_info['last'] \n",
    "    location = user_info['location']\n",
    "    print(\"\\tFull name: \" + full_name.title())\n",
    "    print(\"\\tLocation: \" + location.title())"
   ]
  },
  {
   "cell_type": "code",
   "execution_count": 2,
   "metadata": {},
   "outputs": [
    {
     "name": "stdout",
     "output_type": "stream",
     "text": [
      "1\n",
      "2\n",
      "3\n",
      "4\n",
      "5\n"
     ]
    }
   ],
   "source": [
    "#entradas while\n",
    "\n",
    "current_number = 1\n",
    "while current_number <= 5:\n",
    "    print(current_number)\n",
    "    current_number += 1"
   ]
  },
  {
   "cell_type": "code",
   "execution_count": 3,
   "metadata": {},
   "outputs": [
    {
     "name": "stdout",
     "output_type": "stream",
     "text": [
      "1\n",
      "3\n",
      "5\n",
      "7\n",
      "9\n"
     ]
    }
   ],
   "source": [
    "current_number = 0\n",
    "while current_number < 10:\n",
    "    current_number += 1\n",
    "    if current_number % 2 == 0:\n",
    "        continue\n",
    "    print(current_number)"
   ]
  },
  {
   "cell_type": "code",
   "execution_count": 4,
   "metadata": {},
   "outputs": [
    {
     "name": "stdout",
     "output_type": "stream",
     "text": [
      "Verifying user: Candace\n",
      "Verifying user: Brian\n",
      "Verifying user: Alice\n",
      "\n",
      "The following users have been confirmed:\n",
      "Candace\n",
      "Brian\n",
      "Alice\n"
     ]
    }
   ],
   "source": [
    "# Começa com os usuários que precisam ser verificados,\n",
    "# e com uma lista vazia para armazenar os usuários confirmados\n",
    "unconfirmed_users = ['alice', 'brian', 'candace']\n",
    "confirmed_users = []\n",
    "# Verifica cada usuário até que não haja mais usuários não confirmados\n",
    "# Transfere cada usuário verificado para a lista de usuários confirmados\n",
    "while unconfirmed_users:   #termina o while ate nao tem mais keys na lista\n",
    "    current_user = unconfirmed_users.pop()\n",
    "    print(\"Verifying user: \" + current_user.title())\n",
    "    confirmed_users.append(current_user)\n",
    "# Exibe todos os usuários confirmados\n",
    "print(\"\\nThe following users have been confirmed:\")\n",
    "for confirmed_user in confirmed_users:\n",
    "    print(confirmed_user.title())"
   ]
  },
  {
   "cell_type": "code",
   "execution_count": 5,
   "metadata": {},
   "outputs": [
    {
     "name": "stdout",
     "output_type": "stream",
     "text": [
      "['dog', 'cat', 'dog', 'goldfish', 'cat', 'rabbit', 'cat']\n",
      "['dog', 'dog', 'goldfish', 'rabbit']\n"
     ]
    }
   ],
   "source": [
    "pets = ['dog', 'cat', 'dog', 'goldfish', 'cat', 'rabbit', 'cat']\n",
    "print(pets)\n",
    "while 'cat' in pets:\n",
    "    pets.remove('cat')\n",
    "print(pets)"
   ]
  },
  {
   "cell_type": "markdown",
   "metadata": {},
   "source": [
    "funções"
   ]
  },
  {
   "cell_type": "code",
   "execution_count": null,
   "metadata": {},
   "outputs": [],
   "source": [
    "#funções\n",
    "\n",
    "def greet_user():\n",
    "    \"\"\"Exibe uma saudação simples.\"\"\"\n",
    "    print(\"Hello!\")\n",
    "greet_user()"
   ]
  },
  {
   "cell_type": "code",
   "execution_count": null,
   "metadata": {},
   "outputs": [],
   "source": [
    "def greet_user(username):\n",
    "    \"\"\"Exibe uma saudação simples.\"\"\"\n",
    "    print(\"Hello, \" + username.title() + \"!\")\n",
    "greet_user('jesse')"
   ]
  },
  {
   "cell_type": "code",
   "execution_count": null,
   "metadata": {},
   "outputs": [],
   "source": [
    "def describe_pet(animal_type, pet_name):\n",
    "    \"\"\"Exibe informações sobre um animal de estimação.\"\"\"\n",
    "    print(\"\\nI have a \" + animal_type + \".\")\n",
    "    print(\"My \" + animal_type + \"'s name is \" + pet_name.title() + \".\")\n",
    "describe_pet('hamster', 'harry')\n",
    "#argumento nomeado para nao houver confusao chamando a função\n",
    "describe_pet(animal_type='hamster', pet_name='harry')\n",
    "describe_pet('dog', 'willie')"
   ]
  },
  {
   "cell_type": "code",
   "execution_count": 6,
   "metadata": {},
   "outputs": [
    {
     "name": "stdout",
     "output_type": "stream",
     "text": [
      "\n",
      "I have a dog.\n",
      "My dog's name is willie.\n",
      "\n",
      "I have a dog.\n",
      "My dog's name is willie.\n",
      "\n",
      "I have a hamster.\n",
      "My hamster's name is harry.\n",
      "\n",
      "I have a hamster.\n",
      "My hamster's name is harry.\n"
     ]
    }
   ],
   "source": [
    "#valor default dentra da função para ja especificação.\n",
    "def describe_pet(pet_name, animal_type='dog'):\n",
    "    \"\"\"Exibe informações sobre um animal de estimação.\"\"\"\n",
    "    print(\"\\nI have a \" + animal_type + \".\")\n",
    "    print(\"My \" + animal_type + \"'s name is \" + pet_name + \".\")\n",
    "describe_pet(pet_name = 'willie')\n",
    "describe_pet('willie')\n",
    "describe_pet(pet_name='harry', animal_type='hamster')\n",
    "describe_pet('harry', 'hamster')"
   ]
  },
  {
   "cell_type": "code",
   "execution_count": 7,
   "metadata": {},
   "outputs": [
    {
     "name": "stdout",
     "output_type": "stream",
     "text": [
      "Jimi Hendrix\n"
     ]
    }
   ],
   "source": [
    "def get_formatted_name(first_name, last_name):\n",
    "    \"\"\"Devolve um nome completo formatado de modo elegante.\"\"\"\n",
    "    full_name = first_name + ' ' + last_name\n",
    "    return full_name.title()\n",
    "musician = get_formatted_name('jimi', 'hendrix')\n",
    "print(musician)"
   ]
  },
  {
   "cell_type": "code",
   "execution_count": 8,
   "metadata": {},
   "outputs": [
    {
     "name": "stdout",
     "output_type": "stream",
     "text": [
      "Jimi Hendrix\n",
      "John Lee Hooker\n"
     ]
    }
   ],
   "source": [
    "#para fazer um atributo por opcional se usa '' que significa vazio e coloca no final dos atributos.\n",
    "def get_formatted_name(first_name, last_name, middle_name=''):\n",
    "    \"\"\"Devolve um nome completo formatado de modo elegante.\"\"\"\n",
    "    if middle_name:  # se tiver nome do meio\n",
    "        full_name = first_name + ' ' + middle_name + ' ' + last_name\n",
    "    else:\n",
    "        full_name = first_name + ' ' + last_name\n",
    "    return full_name.title()\n",
    "musician = get_formatted_name('jimi', 'hendrix')\n",
    "print(musician)\n",
    "musician = get_formatted_name('john', 'hooker', 'lee')\n",
    "print(musician)"
   ]
  },
  {
   "cell_type": "code",
   "execution_count": 9,
   "metadata": {},
   "outputs": [
    {
     "name": "stdout",
     "output_type": "stream",
     "text": [
      "{'first': 'jimi', 'last': 'hendrix'}\n"
     ]
    }
   ],
   "source": [
    "def build_person(first_name, last_name):\n",
    "    \"\"\"Devolve um dicionário com informações sobre uma pessoa.\"\"\"\n",
    "    person = {'first': first_name, 'last': last_name}\n",
    "    return person\n",
    "musician = build_person('jimi', 'hendrix')\n",
    "print(musician)"
   ]
  },
  {
   "cell_type": "code",
   "execution_count": 10,
   "metadata": {},
   "outputs": [
    {
     "name": "stdout",
     "output_type": "stream",
     "text": [
      "{'first': 'jimi', 'last': 'hendrix', 'age': 27}\n"
     ]
    }
   ],
   "source": [
    "def build_person(first_name, last_name, age=''):\n",
    "    \"\"\"Devolve um dicionário com informações sobre uma pessoa.\"\"\"\n",
    "    person = {'first': first_name, 'last': last_name}\n",
    "    if age:\n",
    "        #coloca age com valor age dentro do dicionario person\n",
    "        person['age'] = age\n",
    "    return person\n",
    "musician = build_person('jimi', 'hendrix', age=27)\n",
    "print(musician)"
   ]
  },
  {
   "cell_type": "code",
   "execution_count": null,
   "metadata": {},
   "outputs": [],
   "source": [
    "#A função percorre a lista recebida com\n",
    "#um laço e exibe uma saudação para cada usuário que está dentro de uma lista\n",
    "def greet_users(names):\n",
    "    \"\"\"Exibe uma saudação simples a cada usuário da lista.\"\"\"\n",
    "    for name in names:\n",
    "        msg = \"Hello, \" + name.title() + \"!\"\n",
    "        print(msg)\n",
    "usernames = ['hannah', 'ty', 'margot']\n",
    "greet_users(usernames)"
   ]
  },
  {
   "cell_type": "code",
   "execution_count": null,
   "metadata": {},
   "outputs": [],
   "source": [
    "# Começa com alguns designs que devem ser impressos\n",
    "unprinted_designs = ['iphone case', 'robot pendant', 'dodecahedron']\n",
    "completed_models = []\n",
    "# Simula a impressão de cada design, até que não haja mais nenhum\n",
    "# Transfere cada design para completed_models após a impressão\n",
    "while unprinted_designs:\n",
    "    current_design = unprinted_designs.pop()\n",
    "# Simula a criação de uma impressão 3D a partir do design\n",
    "    print(\"Printing model: \" + current_design)\n",
    "    completed_models.append(current_design)\n",
    "# Exibe todos os modelos finalizados\n",
    "print(\"\\nThe following models have been printed:\")\n",
    "for completed_model in completed_models:\n",
    "    print(completed_model)"
   ]
  },
  {
   "cell_type": "code",
   "execution_count": null,
   "metadata": {},
   "outputs": [],
   "source": [
    "def impressao_models(unprinted_designs, completed_models):\n",
    "    \"\"\"\n",
    "    Simula a impressão de cada design, até que não haja mais nenhum.\n",
    "    Transfere cada design para completed_models após a impressão.\n",
    "    \"\"\"\n",
    "    while unprinted_designs:\n",
    "        current_design = unprinted_designs.pop()\n",
    "# Simula a criação de uma impressão 3D a partir do design\n",
    "        print(\"Printing model: \" + current_design)\n",
    "        completed_models.append(current_design)\n",
    "\n",
    "\n",
    "def show_completed_models(completed_models):\n",
    "    \"\"\"Mostra todos os modelos impressos.\"\"\"\n",
    "    print(\"\\nThe following models have been printed:\")\n",
    "    for completed_model in completed_models:\n",
    "        print(completed_model)\n",
    "\n",
    "\n",
    "unprinted_designs = ['iphone case', 'robot pendant', 'dodecahedron']\n",
    "completed_models = []\n",
    "#impressao_models(unprinted_designs, completed_models), para evitar que uma função modifique uma lista se copia a lista com [:]\n",
    "impressao_models(unprinted_designs[:], completed_models) \n",
    "print(unprinted_designs) # para vereficar se modificou a lista\n",
    "show_completed_models(completed_models)\n"
   ]
  },
  {
   "cell_type": "code",
   "execution_count": 11,
   "metadata": {},
   "outputs": [
    {
     "name": "stdout",
     "output_type": "stream",
     "text": [
      "\n",
      "Making a pizza with the following toppings:\n",
      "- pepperoni\n",
      "\n",
      "Making a pizza with the following toppings:\n",
      "- mushrooms\n",
      "- green peppers\n",
      "- extra cheese\n"
     ]
    }
   ],
   "source": [
    "#*ingredientes, mas esse parâmetro agrupa tantos argumentos quantos forem fornecidos na linha de chamada\n",
    "def make_pizza(*ingredientes):\n",
    "    \"\"\"Apresenta a pizza que estamos prestes a preparar.\"\"\"\n",
    "    print(\"\\nMaking a pizza with the following toppings:\")\n",
    "    for ingrediente in ingredientes:\n",
    "        print(\"- \" + ingrediente)\n",
    "make_pizza('pepperoni')\n",
    "make_pizza('mushrooms', 'green peppers', 'extra cheese')"
   ]
  },
  {
   "cell_type": "code",
   "execution_count": null,
   "metadata": {},
   "outputs": [],
   "source": [
    "def make_pizza(size, *toppings):\n",
    "    \"\"\"Apresenta a pizza que estamos prestes a preparar.\"\"\"\n",
    "    print(\"\\nMaking a \" + str(size) + \"-inch pizza with the following toppings:\")\n",
    "    for topping in toppings:\n",
    "       print(\"- \" + topping)\n",
    "make_pizza(16, 'pepperoni')\n",
    "make_pizza(12, 'mushrooms', 'green peppers', 'extra cheese')"
   ]
  },
  {
   "cell_type": "code",
   "execution_count": 12,
   "metadata": {},
   "outputs": [
    {
     "name": "stdout",
     "output_type": "stream",
     "text": [
      "{'first_name': 'albert', 'last_name': 'einstein', 'location': 'princeton', 'field': 'physics'}\n"
     ]
    }
   ],
   "source": [
    "def build_profile(first, last, **user_info):\n",
    "    \"\"\"Constrói um dicionário contendo tudo que sabemos sobre um usuário.\"\"\"\n",
    "    profile = {}\n",
    "    profile['first_name'] = first\n",
    "    profile['last_name'] = last\n",
    "    for key, value in user_info.items():\n",
    "        profile[key] = value\n",
    "    return profile\n",
    "user_profile = build_profile('albert', 'einstein',\n",
    "                            location='princeton',\n",
    "                            field='physics')\n",
    "print(user_profile)"
   ]
  },
  {
   "cell_type": "code",
   "execution_count": null,
   "metadata": {},
   "outputs": [],
   "source": [
    "#Importando um módulo completo \n",
    "\"\"\"import pizza\n",
    "pizza.make_pizza(16, 'pepperoni')\n",
    "pizza.make_pizza(12, 'mushrooms', 'green peppers', 'extra cheese')\"\"\"\n",
    "\n",
    "#Quando Python lê esse arquivo, a linha import pizza lhe diz para abrir o\n",
    "#arquivo pizza.py e copiar todas as funções dele para esse programa. Você\n",
    "#não vê realmente o código sendo copiado entre os arquivos porque Python\n",
    "#faz isso internamente, à medida que o programa executa. Tudo que você\n",
    "#precisa saber é que qualquer função definida em pizza.py agora estará\n",
    "#disponível em making_pizzas.py.\n",
    "#Para chamar uma função que está em um módulo importado, forneça o\n",
    "#nome do módulo, que é pizza nesse caso, seguido do nome da função,\n",
    "#make_pizza(), separados por um ponto u. Esse código gera a mesma saída\n",
    "#que o programa original, que não importava um módulo:\n",
    "\"\"\"Making a 16-inch pizza with the following toppings:\n",
    "- pepperoni\n",
    "Making a 12-inch pizza with the following toppings:\n",
    "- mushrooms\n",
    "- green peppers\n",
    "- extra cheese\"\"\"\n",
    "\n"
   ]
  },
  {
   "cell_type": "code",
   "execution_count": null,
   "metadata": {},
   "outputs": [],
   "source": [
    "#Importando funções específicas\n",
    "#Podemos também importar uma função específica de um módulo. Eis a\n",
    "#sintaxe geral para essa abordagem:\n",
    "\"\"\"from nome_do_módulo import nome_da_função\"\"\"\n",
    "#Você pode importar quantas funções quiser de um módulo separando o\n",
    "#nome de cada função com uma vírgula:\n",
    "\"\"\"from nome_do_módulo import função_0, função_1, função_2\"\"\"\n",
    "#O exemplo com making_pizzas.py teria o seguinte aspecto, se\n",
    "#quiséssemos importar somente a função que será utilizada:\n",
    "\"\"\"from pizza import make_pizza\n",
    "make_pizza(16, 'pepperoni')\n",
    "make_pizza(12, 'mushrooms', 'green peppers', 'extra cheese')\"\"\"\n",
    "#Com essa sintaxe não precisamos usar a notação de ponto ao chamar\n",
    "#uma função. Como importamos explicitamente a função make_pizza() na\n",
    "#instrução import, podemos chamá-la pelo nome quando ela for utilizada."
   ]
  },
  {
   "cell_type": "code",
   "execution_count": null,
   "metadata": {},
   "outputs": [],
   "source": [
    "#podemos usar um alias único e conciso, que é um nome alternativo,\n",
    "#semelhante a um apelido para a função. Dê esse apelido especial à função\n",
    "#quando importá-la.\n",
    "#A seguir, atribuímos um alias mp() para a função make_pizza() importando\n",
    "#make_pizza as mp. A palavra reservada as renomeia uma função usando o\n",
    "#alias que você fornecer:\n",
    "\"\"\"from pizza import make_pizza as mp\n",
    "mp(16, 'pepperoni')\n",
    "mp(12, 'mushrooms', 'green peppers', 'extra cheese')\"\"\"\n",
    "\n",
    "#Python executará o código de\n",
    "#make_pizza(), ao mesmo tempo que evitará confusão com outra função\n",
    "#make_pizza() que você possa ter escrito nesse arquivo de programa.\n",
    "#A sintaxe geral para fornecer um alias é:\n",
    "\"\"\"from nome_do_módulo import nome_da_função as nf\"\"\""
   ]
  },
  {
   "cell_type": "code",
   "execution_count": null,
   "metadata": {},
   "outputs": [],
   "source": [
    "#Também podemos fornecer um alias para um nome de módulo. Dar um\n",
    "#alias conciso a um módulo, por exemplo, p para pizza, permite chamar\n",
    "#mais rapidamente as funções do módulo. Chamar p.make_pizza() é mais\n",
    "#compacto que chamar pizza.make_pizza():\n",
    "\"\"\"import pizza as p\n",
    "p.make_pizza(16, 'pepperoni')\n",
    "p.make_pizza(12, 'mushrooms', 'green peppers', 'extra cheese')\"\"\"\n",
    "#sintaxe geral para essa abordagem é:\n",
    "\"\"\"import nome_do_módulo as nm\"\"\""
   ]
  },
  {
   "cell_type": "code",
   "execution_count": null,
   "metadata": {},
   "outputs": [],
   "source": [
    "#Importando todas as funções de um módulo\n",
    "#Podemos dizer a Python para importar todas as funções de um módulo\n",
    "#usando o operador asterisco (*):\n",
    "\"\"\"from pizza import *\n",
    "make_pizza(16, 'pepperoni')\n",
    "make_pizza(12, 'mushrooms', 'green peppers', 'extra cheese')\"\"\"\n",
    "#O asterisco na instrução import diz a Python para copiar todas as funções\n",
    "#do módulo pizza para esse arquivo de programa. Como todas as funções\n",
    "#são importadas, podemos chamar qualquer função pelo nome, sem usar a\n",
    "#notação de ponto."
   ]
  },
  {
   "cell_type": "code",
   "execution_count": null,
   "metadata": {},
   "outputs": [],
   "source": [
    "#Se você especificar um valor default para um parâmetro, não deve haver\n",
    "#espaços em nenhum dos lados do sinal de igualdade:\n",
    "\"\"\"def nome_da_função(parâmetro_0, parâmetro_1='valor default')\"\"\"\n",
    "#A mesma convenção deve ser usada para argumentos nomeados em\n",
    "#chamadas de função:\n",
    "\"\"\"nome_da_função(valor_0, parâmetro_1='valor')\n",
    "\n",
    "\n",
    "def nome_da_função(\n",
    "parâmetro_0, parâmetro_1, parâmetro_2,\n",
    "parâmetro_3, parâmetro_4, parâmetro_5):\n",
    "corpo da função...\"\"\""
   ]
  },
  {
   "cell_type": "code",
   "execution_count": 16,
   "metadata": {},
   "outputs": [
    {
     "name": "stdout",
     "output_type": "stream",
     "text": [
      "My dog's name is Willie.\n",
      "My dog is 6 years old.\n",
      "Willie is now sitting.\n",
      "Willie rolled over!\n"
     ]
    }
   ],
   "source": [
    "class Dog():\n",
    "    \"\"\"Uma tentativa simples de modelar um cachorro.\"\"\"\n",
    "    def __init__(self, name, age):\n",
    "        \"\"\"Inicializa os atributos name e age.\"\"\"\n",
    "        self.name = name\n",
    "        self.age = age\n",
    "\n",
    "    def sit(self):\n",
    "        \"\"\"Simula um cachorro sentando em resposta a um comando.\"\"\"\n",
    "        print(self.name.title() + \" is now sitting.\")\n",
    "    \n",
    "    def roll_over(self):\n",
    "        \"\"\"Simula um cachorro rolando em resposta a um comando\"\"\"\n",
    "        print(self.name.title() + \" rolled over!\")\n",
    "\n",
    "\n",
    "my_dog = Dog('willie', 6)\n",
    "print(\"My dog's name is \" + my_dog.name.title() + \".\")\n",
    "print(\"My dog is \" + str(my_dog.age) + \" years old.\")\n",
    "my_dog.sit()\n",
    "my_dog.roll_over()"
   ]
  },
  {
   "cell_type": "code",
   "execution_count": 17,
   "metadata": {},
   "outputs": [
    {
     "name": "stdout",
     "output_type": "stream",
     "text": [
      "My dog's name is Willie.\n",
      "My dog is 6 years old.\n",
      "Willie is now sitting.\n",
      "\n",
      "Your dog's name is Lucy.\n",
      "Your dog is 3 years old.\n",
      "Lucy is now sitting.\n"
     ]
    }
   ],
   "source": [
    "my_dog = Dog('willie', 6)\n",
    "your_dog = Dog('lucy', 3)\n",
    "\n",
    "print(\"My dog's name is \" + my_dog.name.title() + \".\")\n",
    "print(\"My dog is \" + str(my_dog.age) + \" years old.\")\n",
    "my_dog.sit()\n",
    "\n",
    "print(\"\\nYour dog's name is \" + your_dog.name.title() + \".\")\n",
    "print(\"Your dog is \" + str(your_dog.age) + \" years old.\")\n",
    "your_dog.sit()"
   ]
  },
  {
   "cell_type": "code",
   "execution_count": 19,
   "metadata": {},
   "outputs": [
    {
     "name": "stdout",
     "output_type": "stream",
     "text": [
      "2016 Audi A4\n"
     ]
    }
   ],
   "source": [
    "class Car():\n",
    "    \"\"\"Uma tentativa simples de representar um carro.\"\"\"\n",
    "    def __init__(self, make, model, year):\n",
    "        \"\"\"Inicializa os atributos que descrevem um carro.\"\"\"\n",
    "        self.make = make\n",
    "        self.model = model\n",
    "        self.year = year\n",
    "    def get_descriptive_name(self):\n",
    "        \"\"\"Devolve um nome descritivo, formatado de modo elegante.\"\"\"\n",
    "        long_name = str(self.year) + ' ' + self.make + ' ' + self.model\n",
    "        return long_name.title()\n",
    "my_new_car = Car('audi', 'a4', 2016)\n",
    "print(my_new_car.get_descriptive_name())"
   ]
  },
  {
   "cell_type": "code",
   "execution_count": 24,
   "metadata": {},
   "outputs": [
    {
     "name": "stdout",
     "output_type": "stream",
     "text": [
      "2016 Audi A4\n",
      "2016 Audi A4\n",
      "This car has 0 miles onit.\n",
      "This car has 23 miles onit.\n"
     ]
    }
   ],
   "source": [
    "#Todo atributo de uma classe precisa de um valor inicial, mesmo que esse\n",
    "#valor seja 0 ou uma string vazia. Em alguns casos, por exemplo, quando\n",
    "#definimos um valor default, faz sentido especificar esse valor inicial no\n",
    "#corpo do método __init__(); se isso for feito para um atributo, você não\n",
    "#precisará incluir um parâmetro para ele.\n",
    "#Vamos acrescentar um atributo chamado odometer_reading que sempre\n",
    "#começa com o valor 0. Também adicionaremos um método\n",
    "#read_odometer() que nos ajudará a ler o hodômetro de cada carro:\n",
    "\n",
    "class Car():\n",
    "    \"\"\"Uma tentativa simples de representar um carro.\"\"\"\n",
    "    def __init__(self, make, model, year):\n",
    "        \"\"\"Inicializa os atributos que descrevem um carro.\"\"\"\n",
    "        self.make = make\n",
    "        self.model = model\n",
    "        self.year = year\n",
    "        self.odometer_reading = 0\n",
    "    def get_descriptive_name(self):\n",
    "        \"\"\"Devolve um nome descritivo, formatado de modo elegante.\"\"\"\n",
    "        long_name = f'{self.year} {self.make} {self.model}'\n",
    "        return long_name.title()\n",
    "    def read_odometer(self):\n",
    "        \"\"\"Exibe uma frase que mostra a milhagem do carro.\"\"\"\n",
    "        print(\"This car has \" + str(self.odometer_reading) + \" miles onit.\")\n",
    "\n",
    "my_new_car = Car('audi', 'a4', 2016)\n",
    "print(my_new_car.get_descriptive_name())\n",
    "my_new_car = Car('audi', 'a4', 2016)\n",
    "print(my_new_car.get_descriptive_name())\n",
    "my_new_car.read_odometer()\n",
    "\n",
    "#Modificando o valor de um atributo diretamente\n",
    "#A maneira mais simples de modificar o valor de um atributo é acessá-lo\n",
    "#diretamente por meio de uma instância. A seguir, definimos o valor de\n",
    "#leitura do hodômetro para 23, de forma direta\n",
    "my_new_car.odometer_reading = 23\n",
    "my_new_car.read_odometer()"
   ]
  },
  {
   "cell_type": "code",
   "execution_count": 30,
   "metadata": {},
   "outputs": [
    {
     "name": "stdout",
     "output_type": "stream",
     "text": [
      "2016 Audi A4\n",
      "This car has 23 miles onit.\n"
     ]
    }
   ],
   "source": [
    "#Modificando o valor de um atributo com um método colocar mais uma função\n",
    "\n",
    "class Car():\n",
    "    \"\"\"Uma tentativa simples de representar um carro.\"\"\"\n",
    "    def __init__(self, make, model, year):\n",
    "        \"\"\"Inicializa os atributos que descrevem um carro.\"\"\"\n",
    "        self.make = make\n",
    "        self.model = model\n",
    "        self.year = year\n",
    "        self.odometer_reading = 0\n",
    "    def get_descriptive_name(self):\n",
    "        \"\"\"Devolve um nome descritivo, formatado de modo elegante.\"\"\"\n",
    "        long_name = str(self.year) + ' ' + self.make + ' ' + self.model\n",
    "        return long_name.title()\n",
    "    def read_odometer(self):\n",
    "        \"\"\"Exibe uma frase que mostra a milhagem do carro.\"\"\"\n",
    "        print(\"This car has \" + str(self.odometer_reading) + \" miles onit.\")\n",
    "    #Modificando o valor de um atributo com um método\n",
    "    #Pode ser conveniente ter métodos que atualizem determinados atributos\n",
    "    #para você. Em vez de acessar o atributo de modo direto, passe o novo valor\n",
    "    #para um método que trate a atualização internamente.\n",
    "    def update_odometer(self, mileage):\n",
    "        \"\"\"Define o valor de leitura do hodômetro com o valor especificado.\"\"\"\n",
    "        self.odometer_reading = mileage\n",
    "        \"\"\"\n",
    "        Define o valor de leitura do hodômetro com o valor especificado\n",
    "        Rejeita a alteração se for tentativa de definir um valor menor\n",
    "        para o hodômetro\n",
    "        \"\"\"\n",
    "        if mileage >= self.odometer_reading:\n",
    "            self.odometer_reading = mileage\n",
    "        else:\n",
    "            print(\"You can't roll back an odometer!\")\n",
    "\n",
    "my_new_car = Car('audi', 'a4', 2016)\n",
    "print(my_new_car.get_descriptive_name())\n",
    "my_new_car.update_odometer(23)\n",
    "my_new_car.read_odometer()\n",
    "\n"
   ]
  },
  {
   "cell_type": "code",
   "execution_count": 2,
   "metadata": {},
   "outputs": [
    {
     "name": "stdout",
     "output_type": "stream",
     "text": [
      "2013 Subaru Outback\n",
      "This car has 23500 miles onit.\n",
      "This car has 23600 miles onit.\n"
     ]
    }
   ],
   "source": [
    "class Car():\n",
    "    \"\"\"Uma tentativa simples de representar um carro.\"\"\"\n",
    "    def __init__(self, make, model, year):\n",
    "        \"\"\"Inicializa os atributos que descrevem um carro.\"\"\"\n",
    "        self.make = make\n",
    "        self.model = model\n",
    "        self.year = year\n",
    "        self.odometer_reading = 0\n",
    "    def get_descriptive_name(self):\n",
    "        \"\"\"Devolve um nome descritivo, formatado de modo elegante.\"\"\"\n",
    "        long_name = str(self.year) + ' ' + self.make + ' ' + self.model\n",
    "        return long_name.title()\n",
    "    def read_odometer(self):\n",
    "        \"\"\"Exibe uma frase que mostra a milhagem do carro.\"\"\"\n",
    "        print(\"This car has \" + str(self.odometer_reading) + \" miles onit.\")\n",
    "    def increment_odometer(self, miles):\n",
    "        \"\"\"Soma a quantidade especificada ao valor de leitura do hodômetro.\"\"\"\n",
    "        self.odometer_reading += miles\n",
    "    def update_odometer(self, mileage):\n",
    "        \"\"\"Define o valor de leitura do hodômetro com o valor especificado.\"\"\"\n",
    "        self.odometer_reading = mileage\n",
    "        \"\"\"\n",
    "        Define o valor de leitura do hodômetro com o valor especificado\n",
    "        Rejeita a alteração se for tentativa de definir um valor menor\n",
    "        para o hodômetro\n",
    "        \"\"\"\n",
    "        if mileage >= self.odometer_reading:\n",
    "            self.odometer_reading = mileage\n",
    "        else:\n",
    "            print(\"You can't roll back an odometer!\")\n",
    "my_used_car = Car('subaru', 'outback', 2013)\n",
    "print(my_used_car.get_descriptive_name())\n",
    "my_used_car.update_odometer(23500)\n",
    "my_used_car.read_odometer()\n",
    "my_used_car.increment_odometer(100)\n",
    "my_used_car.read_odometer()"
   ]
  },
  {
   "cell_type": "code",
   "execution_count": 70,
   "metadata": {},
   "outputs": [
    {
     "name": "stdout",
     "output_type": "stream",
     "text": [
      "2016 Tesla Model S\n",
      "This car has a 70-kWhbattery.\n",
      "This car can go approximately 240 miles on a full charge.\n"
     ]
    }
   ],
   "source": [
    "#herança para iniciar os atributos da classe-pai se usa super().\n",
    "\n",
    "class ElectricCar(Car):\n",
    "    \"\"\"Representa aspectos específicos de veículos elétricos.\"\"\"\n",
    "    def __init__(self, make, model, year):\n",
    "        \"\"\"Inicializa os atributos da classe-pai.\"\"\"\n",
    "        super().__init__(make, model, year)\n",
    "        #Em seguida, inicializa os atributos específicos de um carro elétrico\n",
    "        class Battery():\n",
    "            \"\"\"Uma tentativa simples de modelar uma bateria para um carro elétrico.\"\"\"\n",
    "            def __init__(self, battery_size=70):\n",
    "                \"\"\"Inicializa os atributos da bateria.\"\"\"\n",
    "                self.battery_size = battery_size\n",
    "            def describe_battery(self):\n",
    "                \"\"\"Exibe uma frase que descreve a capacidade da bateria.\"\"\"\n",
    "                print(\"This car has a \" + str(self.battery_size) + \"-kWhbattery.\")\n",
    "                #Inicializa os atributos da classe-pai\n",
    "                #Em seguida, inicializa os atributos específicos de um carro elétrico\n",
    "            def get_range(self):\n",
    "                \"\"\"Exibe uma frase sobre a distância que o carro é capaz de\n",
    "                percorrer com essa bateria.\"\"\"\n",
    "                if self.battery_size == 70:\n",
    "                    range = 240\n",
    "                elif self.battery_size == 85:\n",
    "                    range = 270\n",
    "                message = \"This car can go approximately \" + str(range)\n",
    "                message += \" miles on a full charge.\"\n",
    "                print(message)\n",
    "        self.battery = Battery()\n",
    "my_tesla = ElectricCar('tesla', 'model s', 2016)\n",
    "print(my_tesla.get_descriptive_name())\n",
    "my_tesla.battery.describe_battery()\n",
    "my_tesla.battery.get_range()\n",
    "\n",
    "\n"
   ]
  },
  {
   "cell_type": "code",
   "execution_count": 6,
   "metadata": {},
   "outputs": [
    {
     "data": {
      "text/plain": [
       "' print(\"This car doesn\\'t need a gas tank!\")'"
      ]
     },
     "execution_count": 6,
     "metadata": {},
     "output_type": "execute_result"
    }
   ],
   "source": [
    "#Suponha que a classe Car tenha um método chamado fill_gas_tank().\n",
    "#Esse método não faz sentido para um veículo totalmente elétrico, portanto\n",
    "#você pode sobrescrever esse método. Eis uma maneira de fazer isso:\n",
    "\"\"\"def ElectricCar(Car):\n",
    "--trecho omitido--\n",
    "def fill_gas_tank():\"\"\"\n",
    "    #Carros elétricos não têm tanques de gasolina.\n",
    "\"\"\" print(\"This car doesn't need a gas tank!\")\"\"\"   #pag 260"
   ]
  },
  {
   "cell_type": "code",
   "execution_count": 12,
   "metadata": {},
   "outputs": [
    {
     "name": "stdout",
     "output_type": "stream",
     "text": [
      "Tesla Model S 2022\n",
      "This car has a 70-kWh battery.\n"
     ]
    }
   ],
   "source": [
    "class Car:\n",
    "    def __init__(self, make, model, year):\n",
    "        self.make = make\n",
    "        self.model = model\n",
    "        self.year = year\n",
    "        \n",
    "        class Battery:\n",
    "            def __init__(self, battery_size=70):\n",
    "                self.battery_size = battery_size\n",
    "                \n",
    "            def describe_battery(self):\n",
    "                print(f\"This car has a {self.battery_size}-kWh battery.\")\n",
    "                \n",
    "        self.battery = Battery()\n",
    "        \n",
    "my_car = Car('Tesla', 'Model S', 2022)\n",
    "print(my_car.make, my_car.model, my_car.year)\n",
    "my_car.battery.describe_battery()"
   ]
  },
  {
   "cell_type": "code",
   "execution_count": 9,
   "metadata": {},
   "outputs": [
    {
     "data": {
      "text/plain": [
       "'from nome_do_módulo import *'"
      ]
     },
     "execution_count": 9,
     "metadata": {},
     "output_type": "execute_result"
    }
   ],
   "source": [
    "#importa o arquivo car com a Classe Car\n",
    "\"\"\"from car import Car\"\"\"\n",
    "\n",
    "#Importando várias classes de um módulo\n",
    "\"\"\"from car import Car, ElectricCar\n",
    "my_beetle = Car('volkswagen', 'beetle', 2016)\n",
    "print(my_beetle.get_descriptive_name())\n",
    "my_tesla = ElectricCar('tesla', 'roadster', 2016)\n",
    "print(my_tesla.get_descriptive_name())\"\"\"\n",
    "\n",
    "#Importando um módulo completo\n",
    "\"\"\"u import car\n",
    "my_beetle = car.Car('volkswagen', 'beetle', 2016)\n",
    "print(my_beetle.get_descriptive_name())\n",
    "w my_tesla = car.ElectricCar('tesla', 'roadster', 2016)\"\"\"\n",
    "\n",
    "#Importando todas as classes de um módulo\n",
    "#Você pode importar todas as classes de \n",
    "# um módulo usando a sintaxe a seguir:\n",
    "\"\"\"from nome_do_módulo import *\"\"\""
   ]
  },
  {
   "cell_type": "code",
   "execution_count": 10,
   "metadata": {},
   "outputs": [
    {
     "name": "stdout",
     "output_type": "stream",
     "text": [
      "Jen's favorite language is Python.\n",
      "Sarah's favorite language is C.\n",
      "Edward's favorite language is Ruby.\n",
      "Phil's favorite language is Python.\n"
     ]
    }
   ],
   "source": [
    "#classe OrderedDict do módulo collections para organizar do jeito que escreveu\n",
    "\n",
    "from collections import OrderedDict\n",
    "favorite_languages = OrderedDict()\n",
    "favorite_languages['jen'] = 'python'\n",
    "favorite_languages['sarah'] = 'c'\n",
    "favorite_languages['edward'] = 'ruby'\n",
    "favorite_languages['phil'] = 'python'\n",
    "for name, language in favorite_languages.items():\n",
    "    print(name.title() + \"'s favorite language is \" + language.title() + \".\") #pag 278\n"
   ]
  },
  {
   "cell_type": "code",
   "execution_count": 24,
   "metadata": {},
   "outputs": [
    {
     "ename": "SyntaxError",
     "evalue": "(unicode error) 'unicodeescape' codec can't decode bytes in position 16-17: truncated \\UXXXXXXXX escape (3933651378.py, line 12)",
     "output_type": "error",
     "traceback": [
      "\u001b[1;36m  Cell \u001b[1;32mIn[24], line 12\u001b[1;36m\u001b[0m\n\u001b[1;33m    with open(file_path) as file_object:\"\"\"\u001b[0m\n\u001b[1;37m                                           ^\u001b[0m\n\u001b[1;31mSyntaxError\u001b[0m\u001b[1;31m:\u001b[0m (unicode error) 'unicodeescape' codec can't decode bytes in position 16-17: truncated \\UXXXXXXXX escape\n"
     ]
    }
   ],
   "source": [
    "with open('pi_digits.txt') as file_object:\n",
    "    contents = file_object.read()\n",
    "    print(contents.rstrip())\n",
    "\n",
    "#Um path de arquivo relativo diz a Python para procurar um local especificado, relativo ao\n",
    "#diretório em que o arquivo de programa em execução no momento está armazenado\n",
    "\"\"\"with open('text_files\\nome_do_arquivo.txt') as file_object:\"\"\"\n",
    "\n",
    "#path absoluto\n",
    "\"\"\"\"file_path =\n",
    "'C:\\Users\\ehmatthes\\other_files\\text_files\\nome_do_arquivo.txt'\n",
    "with open(file_path) as file_object:\"\"\""
   ]
  },
  {
   "cell_type": "code",
   "execution_count": 15,
   "metadata": {},
   "outputs": [
    {
     "name": "stdout",
     "output_type": "stream",
     "text": [
      "3.1415926535\n",
      "8979323846\n",
      "2643383279\n"
     ]
    }
   ],
   "source": [
    "filename = 'pi_digits.txt'\n",
    "with open(filename) as file_object:\n",
    "    for line in file_object:\n",
    "        print(line.rstrip())"
   ]
  },
  {
   "cell_type": "code",
   "execution_count": 14,
   "metadata": {},
   "outputs": [
    {
     "name": "stdout",
     "output_type": "stream",
     "text": [
      "Sorry, the file alice.txt does not exist.\n"
     ]
    }
   ],
   "source": [
    "#usando try except para se houver um erro do tipo filenotfounderror nao aparecer o Traceback que pode causar vulnerabilidade\n",
    "\n",
    "filename = 'alice.txt'\n",
    "try:\n",
    "    with open(filename) as f_obj:\n",
    "        contents = f_obj.read()\n",
    "except FileNotFoundError:\n",
    "    msg = \"Sorry, the file \" + filename + \" does not exist.\"\n",
    "    print(msg)"
   ]
  },
  {
   "cell_type": "code",
   "execution_count": 13,
   "metadata": {},
   "outputs": [],
   "source": [
    "#Usando json.dump() e json.load()\n",
    "import json\n",
    "numbers = [2, 3, 5, 7, 11, 13]\n",
    "filename = 'numbers.json'\n",
    "with open(filename, 'w') as f_obj:\n",
    "    json.dump(numbers, f_obj)"
   ]
  },
  {
   "cell_type": "code",
   "execution_count": 8,
   "metadata": {},
   "outputs": [
    {
     "name": "stdout",
     "output_type": "stream",
     "text": [
      "[2, 3, 5, 7, 11, 13]\n"
     ]
    }
   ],
   "source": [
    "import json\n",
    "filename = 'numbers.json'\n",
    "with open(filename) as f_obj:\n",
    "    numbers = json.load(f_obj)\n",
    "    print(numbers)"
   ]
  }
 ],
 "metadata": {
  "kernelspec": {
   "display_name": "base",
   "language": "python",
   "name": "python3"
  },
  "language_info": {
   "codemirror_mode": {
    "name": "ipython",
    "version": 3
   },
   "file_extension": ".py",
   "mimetype": "text/x-python",
   "name": "python",
   "nbconvert_exporter": "python",
   "pygments_lexer": "ipython3",
   "version": "3.11.3"
  },
  "orig_nbformat": 4
 },
 "nbformat": 4,
 "nbformat_minor": 2
}
